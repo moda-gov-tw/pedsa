{
 "cells": [
  {
   "cell_type": "code",
   "execution_count": 1,
   "metadata": {},
   "outputs": [
    {
     "name": "stdout",
     "output_type": "stream",
     "text": [
      "CustomMean_3.jar     lib\t\t   sqljdbc4-2.0.jar\r\n",
      "funniest\t     local_policy.jar\t   testEncID.ipynb\r\n",
      "funniest-0.1.tar.gz  logging_setting.yaml  test_unitUDFEnc.py\r\n",
      "getKchecking_one.py  mylogfile.log\t   udfEncrypt_3.jar\r\n",
      "JsonSchema.py\t     myLogging_1.jar\t   US_export_policy.jar\r\n",
      "kchecking.py\t     spark-defaults.conf\r\n"
     ]
    }
   ],
   "source": [
    "!ls"
   ]
  },
  {
   "cell_type": "code",
   "execution_count": 1,
   "metadata": {},
   "outputs": [
    {
     "name": "stderr",
     "output_type": "stream",
     "text": [
      "E\n",
      "======================================================================\n",
      "ERROR: test_udfEncCols (__main__.udfEncTestCase)\n",
      "----------------------------------------------------------------------\n",
      "Traceback (most recent call last):\n",
      "  File \"/root/proj_/longTaskDir_gau/test_unitUDFEnc.py\", line 36, in setUp\n",
      "    self.sc = SparkContext(conf=SparkConf().setAppName(self.appName).setMaster(self.master))\n",
      "  File \"/usr/local/spark/python/pyspark/context.py\", line 115, in __init__\n",
      "    SparkContext._ensure_initialized(self, gateway=gateway, conf=conf)\n",
      "  File \"/usr/local/spark/python/pyspark/context.py\", line 308, in _ensure_initialized\n",
      "    callsite.function, callsite.file, callsite.linenum))\n",
      "ValueError: Cannot run multiple SparkContexts at once; existing SparkContext(app=PySparkShell, master=local[*]) created by <module> at /opt/conda/lib/python3.7/site-packages/IPython/utils/py3compat.py:188 \n",
      "\n",
      "----------------------------------------------------------------------\n",
      "Ran 1 test in 0.008s\n",
      "\n",
      "FAILED (errors=1)\n"
     ]
    },
    {
     "ename": "SystemExit",
     "evalue": "True",
     "output_type": "error",
     "traceback": [
      "An exception has occurred, use %tb to see the full traceback.\n",
      "\u001b[0;31mSystemExit\u001b[0m\u001b[0;31m:\u001b[0m True\n"
     ]
    }
   ],
   "source": [
    "%run test_unitUDFEnc.py"
   ]
  },
  {
   "cell_type": "code",
   "execution_count": null,
   "metadata": {},
   "outputs": [],
   "source": []
  },
  {
   "cell_type": "code",
   "execution_count": null,
   "metadata": {},
   "outputs": [],
   "source": []
  }
 ],
 "metadata": {
  "kernelspec": {
   "display_name": "Python 3",
   "language": "python",
   "name": "python3"
  },
  "language_info": {
   "codemirror_mode": {
    "name": "ipython",
    "version": 3
   },
   "file_extension": ".py",
   "mimetype": "text/x-python",
   "name": "python",
   "nbconvert_exporter": "python",
   "pygments_lexer": "ipython3",
   "version": "3.7.0"
  }
 },
 "nbformat": 4,
 "nbformat_minor": 2
}
